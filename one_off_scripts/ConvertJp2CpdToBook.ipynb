{
 "cells": [
  {
   "cell_type": "code",
   "execution_count": null,
   "metadata": {
    "collapsed": true
   },
   "outputs": [],
   "source": [
    "import os\n",
    "import shutil\n",
    "import subprocess\n",
    "from lxml import etree as ET"
   ]
  },
  {
   "cell_type": "code",
   "execution_count": null,
   "metadata": {
    "collapsed": true
   },
   "outputs": [],
   "source": [
    "def update_structure_files(collection_folder):\n",
    "    for root, dirs, files in os.walk(collection_folder):\n",
    "        if 'structure.cpd' in files:\n",
    "            parent = os.path.split(root)[-1]\n",
    "            new_etree = ET.Element(\"islandora_compound_object\", title=parent)\n",
    "            old_etree = ET.parse(\"{}/structure.cpd\".format(root))\n",
    "            for i in old_etree.findall('.//pageptr'):\n",
    "                new_etree.append(ET.Element('child', content='{}/{}'.format(parent, i.text)))\n",
    "            with open('{}/structure.xml'.format(root), 'wb') as f:\n",
    "                f.write(ET.tostring(new_etree, encoding=\"utf-8\", xml_declaration=True, pretty_print=True))"
   ]
  },
  {
   "cell_type": "code",
   "execution_count": null,
   "metadata": {
    "collapsed": true
   },
   "outputs": [],
   "source": [
    "def parse_structure_files(parent_structure_file):\n",
    "    ordered_pointers = []\n",
    "    structure_etree = ET.parse(parent_structure_file).getroot()\n",
    "    parent = structure_etree.get('title')\n",
    "    for i in structure_etree.iterchildren():\n",
    "        try:\n",
    "            repeated_parent, child = i.get('content').split('/')\n",
    "        except ValueError:\n",
    "            print('probably oldstyle structure file: {}'.format(parent_structure_file))\n",
    "            break\n",
    "        if repeated_parent != parent:\n",
    "            print('unexpected multiple parents in one structure file')\n",
    "            quit()\n",
    "        ordered_pointers.append(child)\n",
    "    return parent, ordered_pointers\n",
    "\n",
    "\n",
    "def parse_all_structure_files(directory):\n",
    "    parent_orderedchildren_dict = dict()\n",
    "    for root, dirs, files in os.walk(directory):\n",
    "        for file in files:\n",
    "            if file == 'structure.xml':\n",
    "                parent, ordered_children = parse_structure_files(os.path.join(root, file))\n",
    "                parent_orderedchildren_dict[parent] = ordered_children\n",
    "    return parent_orderedchildren_dict\n",
    "\n",
    "\n",
    "def doublecheck_1obj_and_1mods(child_dir):\n",
    "    for root, dirs, files in os.walk(child_dir):\n",
    "        if files and len(files) != 2:\n",
    "            print('expected 2 files in dir {}'.format(root))\n",
    "            break\n",
    "    else:\n",
    "        return True\n",
    "\n",
    "\n",
    "def move_parent_mods(source_dir, output_dir, parent_pointer):\n",
    "    output_parent_dir = os.path.join(output_dir, parent_pointer)\n",
    "    output_parent_modspath = os.path.join(output_parent_dir, 'MODS.xml')\n",
    "    original_parent_modspath = os.path.join(source_dir, parent_pointer, 'MODS.xml')    \n",
    "    os.makedirs(output_parent_dir, exist_ok=True)\n",
    "    shutil.copy2(original_parent_modspath, output_parent_modspath)\n",
    "\n",
    "\n",
    "def move_child_mods(original_child_dir, converted_child_dir):\n",
    "    original_mods_path = os.path.join(original_child_dir, 'MODS.xml')\n",
    "    converted_mods_path = os.path.join(converted_child_dir, 'MODS.xml')\n",
    "    shutil.copy2(original_mods_path, converted_mods_path)\n",
    "\n",
    "\n",
    "def move_child_objs(original_child_dir, converted_child_dir):\n",
    "    for file in os.listdir(original_child_dir):\n",
    "        if not 'OBJ' in file:\n",
    "            continue\n",
    "        original_obj_path = os.path.join(original_child_dir, file)\n",
    "        converted_obj_path = os.path.join(converted_child_dir, file)\n",
    "        if not os.path.isfile(original_obj_path):\n",
    "            print('not obj file at {}'.format(original_obj_path))\n",
    "        shutil.copy2(original_obj_path, converted_obj_path)\n",
    "\n",
    "\n",
    "def loop_through_children(ordered_children_pointers, original_parent_dir, converted_parent_dir):\n",
    "    for num, child_pointer in enumerate(ordered_children_pointers):\n",
    "        original_child_dir = os.path.join(original_parent_dir, child_pointer)\n",
    "        converted_child_dir = os.path.join(converted_parent_dir, str(num+1))\n",
    "        os.makedirs(converted_child_dir, exist_ok=True)\n",
    "        move_child_mods(original_child_dir, converted_child_dir)\n",
    "        move_child_objs(original_child_dir, converted_child_dir)\n",
    "        doublecheck_1obj_and_1mods(converted_child_dir)\n",
    "\n",
    "\n",
    "def loop_through_parents(parent_orderedchildren_dict, source_dir, output_dir):\n",
    "    for parent_pointer, ordered_children_pointers in parent_orderedchildren_dict.items():\n",
    "        move_parent_mods(source_dir, output_dir, parent_pointer)\n",
    "        converted_parent_dir = os.path.join(output_dir, parent_pointer)\n",
    "        original_parent_dir = os.path.join(source_dir, parent_pointer)\n",
    "        loop_through_children(ordered_children_pointers, original_parent_dir, converted_parent_dir)\n",
    "\n",
    "\n",
    "def rename_folders_move_files(source_dir, output_dir):\n",
    "    parent_orderedchildren_dict = parse_all_structure_files(source_dir)\n",
    "    loop_through_parents(parent_orderedchildren_dict, source_dir, output_dir)\n",
    "\n",
    "            "
   ]
  },
  {
   "cell_type": "code",
   "execution_count": null,
   "metadata": {
    "collapsed": true
   },
   "outputs": [],
   "source": [
    "#Only works if imagemagick + jp2 delegates are active on the linux machine\n",
    "\n",
    "def convert_jp2_to_tiff(sourcefile, outputfile):\n",
    "    subprocess.run(['convert',\n",
    "                   sourcefile,\n",
    "                   '-compress',\n",
    "                   'jpeg',\n",
    "                   outputfile])"
   ]
  },
  {
   "cell_type": "code",
   "execution_count": null,
   "metadata": {
    "collapsed": true
   },
   "outputs": [],
   "source": [
    "def convert_a_book_jp2_collection(filepath):\n",
    "    for root, dirs, files in os.walk(filepath):\n",
    "        for file in files:\n",
    "            if 'OBJ' in file and file != 'OBJ.tif':\n",
    "                sourcefile = os.path.join(root, file)\n",
    "                outputfile = os.path.join(root, 'OBJ.tif')\n",
    "                convert_jp2_to_tiff(sourcefile, outputfile)\n",
    "                os.remove(sourcefile)"
   ]
  },
  {
   "cell_type": "code",
   "execution_count": null,
   "metadata": {},
   "outputs": [],
   "source": [
    "if __name__ == '__main__':\n",
    "    source_dir = '/media/garrett_armstrong/Data/CopyUploadToIslandora/lsuhsc-lsubk01-cpd/lsuhsc-lsubk01-cpd/'\n",
    "    output_dir = '/media/garrett_armstrong/Data/CopyConverted_to_Tiff_Book/lsuhsc-lsubk01-cpd/lsuhsc-lsubk01-cpd/'\n",
    "    update_structure_files(source_dir)\n",
    "    rename_folders_move_files(source_dir, output_dir)\n",
    "    convert_a_book_jp2_collection(output_dir)"
   ]
  },
  {
   "cell_type": "code",
   "execution_count": null,
   "metadata": {
    "collapsed": true
   },
   "outputs": [],
   "source": []
  }
 ],
 "metadata": {
  "kernelspec": {
   "display_name": "Python 3",
   "language": "python",
   "name": "python3"
  },
  "language_info": {
   "codemirror_mode": {
    "name": "ipython",
    "version": 3
   },
   "file_extension": ".py",
   "mimetype": "text/x-python",
   "name": "python",
   "nbconvert_exporter": "python",
   "pygments_lexer": "ipython3",
   "version": "3.6.2"
  }
 },
 "nbformat": 4,
 "nbformat_minor": 2
}
