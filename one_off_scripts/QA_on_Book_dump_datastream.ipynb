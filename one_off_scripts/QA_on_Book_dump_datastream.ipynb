{
 "cells": [
  {
   "cell_type": "code",
   "execution_count": null,
   "metadata": {
    "collapsed": true
   },
   "outputs": [],
   "source": [
    "import os\n",
    "import shutil"
   ]
  },
  {
   "cell_type": "code",
   "execution_count": null,
   "metadata": {},
   "outputs": [],
   "source": [
    "# Counts Page level files (should be 9)\n",
    "\n",
    "read_mods = dict()\n",
    "\n",
    "directories = list()\n",
    "\n",
    "this_dict = {i: [] for i in range(10)}\n",
    "\n",
    "for root, dirs, files in os.walk('/media/garrett_armstrong/R/TechInit/ContentDMData/dumped_datastream_collections/'):\n",
    "    for x in range(10):\n",
    "        if len(files) == x and os.path.split(root)[1].isnumeric():\n",
    "            this_dict[x].append(root)\n",
    "for k, v in this_dict.items():\n",
    "    print(k, len(v))     "
   ]
  },
  {
   "cell_type": "code",
   "execution_count": null,
   "metadata": {},
   "outputs": [],
   "source": [
    "# FINDs Skipped pages.  DOes not find missing last page.\n",
    "\n",
    "fulled_path = '/media/garrett_armstrong/R/TechInit/ContentDMData/dumped_datastream_collections'\n",
    "for root, dirs, files in os.walk(fulled_path):\n",
    "#     print(root)\n",
    "#     print(os.path.split(os.path.split(root)[0])[1])\n",
    "    if os.path.split(os.path.split(root)[0])[1] == 'dumped_datastream_collections':\n",
    "#         print(dirs)\n",
    "        starting_count = 0\n",
    "        int_dirs = [int(i) for i in dirs]\n",
    "        for subdir in sorted(int_dirs):\n",
    "#             print(starting_count + 1, subdir)\n",
    "            if str(subdir) != str(starting_count + 1):\n",
    "                print(root)\n",
    "            starting_count += 1\n",
    "        "
   ]
  },
  {
   "cell_type": "code",
   "execution_count": null,
   "metadata": {},
   "outputs": [],
   "source": [
    "# Moves folders with 9 items from vagrant folder to R\n",
    "\n",
    "# for filepath in this_dict[9]:\n",
    "#     try:\n",
    "#         new_filepath = filepath.replace('/media/garrett_armstrong/Data/islandora_ansible/lsuhsc-dumped-datastreams/',\n",
    "#                                         '/media/garrett_armstrong/R/TechInit/ContentDMData/dumped_datastream_collections/')\n",
    "#         shutil.move(filepath, new_filepath)\n",
    "#     except FileNotFoundError:\n",
    "#         continue"
   ]
  },
  {
   "cell_type": "code",
   "execution_count": null,
   "metadata": {
    "collapsed": true
   },
   "outputs": [],
   "source": []
  },
  {
   "cell_type": "code",
   "execution_count": null,
   "metadata": {},
   "outputs": [],
   "source": [
    "#Counts Page level items (should be 9)\n",
    "\n",
    "PNYusb_dict = {i: [] for i in range(10)}\n",
    "\n",
    "for root, dirs, files in os.walk('/media/garrett_armstrong/PNYusb3/lsuhsc-lsubk01-dumped-derivatives/NotYETCleaned_dumped_datastreams_lsuhsc_lsubk01/'):\n",
    "    if os.path.split(root)[1].isnumeric():\n",
    "        if dirs:\n",
    "            print(root)\n",
    "        PNYusb_dict[len(files)].append(root)\n",
    "for k, v in PNYusb_dict.items():\n",
    "    print(k, len(v))"
   ]
  },
  {
   "cell_type": "code",
   "execution_count": null,
   "metadata": {},
   "outputs": [],
   "source": [
    "# Moves folders with 9 items from PNY to R\n",
    "\n",
    "# for filepath in PNYusb_dict[9]:\n",
    "#     try:\n",
    "#         new_filepath = filepath.replace('/media/garrett_armstrong/PNYusb3/lsuhsc-lsubk01-dumped-derivatives/NotYETCleaned_dumped_datastreams_lsuhsc_lsubk01/',\n",
    "#                                         '/media/garrett_armstrong/R/TechInit/ContentDMData/dumped_datastream_collections/')\n",
    "# #         print(filepath, '/n', new_filepath)\n",
    "#         shutil.move(filepath, new_filepath)\n",
    "#     except FileNotFoundError:\n",
    "#         continue"
   ]
  },
  {
   "cell_type": "code",
   "execution_count": null,
   "metadata": {
    "collapsed": true
   },
   "outputs": [],
   "source": []
  },
  {
   "cell_type": "code",
   "execution_count": null,
   "metadata": {},
   "outputs": [],
   "source": [
    "# Finds dupe files on PNY and R\n",
    "\n",
    "uncleaned_dir = '/media/garrett_armstrong/PNYusb3/lsuhsc-lsubk01-dumped-derivatives/NotYETCleaned_dumped_datastreams_lsuhsc_lsubk01'\n",
    "fulled_dir = '/media/garrett_armstrong/R/TechInit/ContentDMData/dumped_datastream_collections'\n",
    "\n",
    "def switch_path(uncleaned_path):\n",
    "    if uncleaned_dir not in uncleaned_path:\n",
    "        raise NotADirectoryError\n",
    "    return uncleaned_path.replace(uncleaned_dir, fulled_dir)\n",
    "\n",
    "count = 0\n",
    "for root, dirs, files in os.walk(uncleaned_dir):\n",
    "    for file in files:\n",
    "        fulled_file = os.path.join(switch_path(root), file)\n",
    "        count += 1\n",
    "        if os.path.isfile(fulled_file):\n",
    "            print('{} is a dupe'.format(fulled_file))"
   ]
  },
  {
   "cell_type": "code",
   "execution_count": null,
   "metadata": {},
   "outputs": [],
   "source": [
    "# Counts book level files (should be 3)\n",
    "\n",
    "book_level_counts = {i: [] for i in range(10)}\n",
    "\n",
    "for root, dirs, files in os.walk(uncleaned_dir):\n",
    "    if os.path.split(os.path.split(root)[0])[1] == 'NotYETCleaned_dumped_datastreams_lsuhsc_lsubk01':\n",
    "        book_level_files = [os.path.join(root, file) for file in files]\n",
    "        book_level_counts[len(files)].extend(book_level_files)\n",
    "\n",
    "for k, v in book_level_counts.items():\n",
    "    print(k, len(v))"
   ]
  },
  {
   "cell_type": "code",
   "execution_count": null,
   "metadata": {},
   "outputs": [],
   "source": [
    "pdf_book_level_counts = [path for path in book_level_counts[1] if os.path.splitext(path) == 'PDF.pdf']\n",
    "mods_book_level_counts = [path for path in book_level_counts[1] if os.path.split(path)[1] == 'MODS.xml']\n",
    "tn_book_level_counts = [path for path in book_level_counts[1] if os.path.split(path)[1] == 'TN.jpg']\n",
    "\n",
    "for group in (pdf_book_level_counts, mods_book_level_counts, tn_book_level_counts):\n",
    "    print(len(group))"
   ]
  },
  {
   "cell_type": "code",
   "execution_count": null,
   "metadata": {},
   "outputs": [],
   "source": [
    "missing_three_root_files = set()\n",
    "\n",
    "for root, dirs, files in os.walk(fulled_dir):\n",
    "    if os.path.split(os.path.split(root)[0])[1] == 'dumped_datastream_collections':\n",
    "        if set(files) != {'TN.jpg', 'PDF.pdf', 'MODS.xml'}:\n",
    "            missing_three_root_files.add(root)"
   ]
  },
  {
   "cell_type": "code",
   "execution_count": null,
   "metadata": {},
   "outputs": [],
   "source": [
    "len(missing_three_root_files)"
   ]
  },
  {
   "cell_type": "code",
   "execution_count": null,
   "metadata": {},
   "outputs": [],
   "source": [
    "missing_three_root_files_parent_pids = [os.path.split(i)[1] for i in missing_three_root_files]"
   ]
  },
  {
   "cell_type": "code",
   "execution_count": null,
   "metadata": {},
   "outputs": [],
   "source": [
    "# missing_three_root_files_parent_pids"
   ]
  },
  {
   "cell_type": "code",
   "execution_count": null,
   "metadata": {},
   "outputs": [],
   "source": [
    "for filepath in missing_three_root_files:\n",
    "    updated_filepath = filepath.replace('/media/garrett_armstrong/R/TechInit/ContentDMData/dumped_datastream_collections/',\n",
    "                                    '/media/garrett_armstrong/PNYusb3/lsuhsc-lsubk01-dumped-derivatives/NotYETCleaned_dumped_datastreams_lsuhsc_lsubk01/'\n",
    "                                    )\n",
    "    print(updated_filepath)\n",
    "#     shutil.move(filepath, updated_filepath)"
   ]
  },
  {
   "cell_type": "code",
   "execution_count": null,
   "metadata": {
    "collapsed": true
   },
   "outputs": [],
   "source": []
  },
  {
   "cell_type": "code",
   "execution_count": null,
   "metadata": {
    "collapsed": true
   },
   "outputs": [],
   "source": []
  },
  {
   "cell_type": "code",
   "execution_count": null,
   "metadata": {},
   "outputs": [],
   "source": [
    "# all Book parent pids\n",
    "\n",
    "all_book_pids = set()\n",
    "\n",
    "PNYdir = '/media/garrett_armstrong/PNYusb3/lsuhsc-lsubk01-dumped-derivatives/NotYETCleaned_dumped_datastreams_lsuhsc_lsubk01/'\n",
    "Rdir = '/media/garrett_armstrong/R/TechInit/ContentDMData/dumped_datastream_collections/'\n",
    "\n",
    "for filestash in (PNYdir, Rdir):\n",
    "    for root, dirs, files in os.walk(filestash):\n",
    "        if dirs and dirs[0].isnumeric():\n",
    "            all_book_pids.add(root)\n"
   ]
  },
  {
   "cell_type": "code",
   "execution_count": null,
   "metadata": {},
   "outputs": [],
   "source": [
    "for i in all_book_pids:\n",
    "    print(i)\n",
    "    break"
   ]
  },
  {
   "cell_type": "code",
   "execution_count": null,
   "metadata": {},
   "outputs": [],
   "source": [
    "print(len(all_book_pids))\n",
    "print(sorted(all_book_pids))"
   ]
  },
  {
   "cell_type": "code",
   "execution_count": null,
   "metadata": {
    "collapsed": true
   },
   "outputs": [],
   "source": []
  },
  {
   "cell_type": "code",
   "execution_count": null,
   "metadata": {
    "collapsed": true
   },
   "outputs": [],
   "source": []
  },
  {
   "cell_type": "code",
   "execution_count": null,
   "metadata": {},
   "outputs": [],
   "source": [
    "# Compares a mods record in each folder to find duplicates\n",
    "\n",
    "mods_records = dict()\n",
    "\n",
    "dupe_set = set()\n",
    "\n",
    "for parentpath in all_book_pids:\n",
    "    mods_one = os.path.join(parentpath, '1', 'MODS.xml')\n",
    "    if not os.path.isfile(mods_one):\n",
    "        print('not child 1 in this book: {}'.format(parentpath))\n",
    "    if mods_records.get(parentpath):\n",
    "        print('two folders for book: {}'.format(parentpath))\n",
    "    with open(mods_one, 'r') as f:\n",
    "        mods_record = f.read()\n",
    "    for k, v in mods_records.items():\n",
    "        if v == mods_record:\n",
    "            dupe_set.add(tuple(sorted([parentpath, k])))\n",
    "#             print('duplicate item 1 between:\\n{}\\nand\\n{}'.format(parentpath, k))\n",
    "    else:\n",
    "        mods_records[parentpath] = mods_record"
   ]
  },
  {
   "cell_type": "code",
   "execution_count": null,
   "metadata": {},
   "outputs": [],
   "source": [
    "dupe_set"
   ]
  },
  {
   "cell_type": "code",
   "execution_count": null,
   "metadata": {},
   "outputs": [],
   "source": [
    "def return_suspect_duplicate_mods(pointer):\n",
    "    mods_file = os.path.join('/media/garrett_armstrong/PNYusb3/lsuhsc-lsubk01-dumped-derivatives/NotYETCleaned_dumped_datastreams_lsuhsc_lsubk01/lsuhsc-lsubk01_22254',\n",
    "                             pointer, \n",
    "                             'MODS.xml')\n",
    "    if not os.path.isfile(mods_file):\n",
    "        return False\n",
    "    with open(mods_file, 'r') as f:\n",
    "        return f.read()\n",
    "\n",
    "def do_two_collections_match(questioned_collection_path):\n",
    "    mods_files = [os.path.join(root, file) \n",
    "                  for root, dirs, files in os.walk(questioned_collection_path) \n",
    "                  for file in files \n",
    "                  if file == 'MODS.xml']\n",
    "    for mods_file in mods_files:\n",
    "        if not os.path.split(os.path.split(mods_file)[0])[1].isnumeric():\n",
    "            continue\n",
    "        pointer = os.path.split(os.path.split(mods_file)[0])[1]\n",
    "        with open(mods_file, 'r') as f:\n",
    "            this_mods = f.read()\n",
    "        suspect_duplicate = return_suspect_duplicate_mods(pointer)\n",
    "        if suspect_duplicate and this_mods != suspect_duplicate:\n",
    "            print('{} does not match'.format(parentpath))\n",
    "            \n",
    "do_two_collections_match('/media/garrett_armstrong/PNYusb3/lsuhsc-lsubk01-dumped-derivatives/NotYETCleaned_dumped_datastreams_lsuhsc_lsubk01/lsuhsc-lsubk01_34298')"
   ]
  },
  {
   "cell_type": "code",
   "execution_count": null,
   "metadata": {
    "collapsed": true
   },
   "outputs": [],
   "source": []
  }
 ],
 "metadata": {
  "kernelspec": {
   "display_name": "Python 3",
   "language": "python",
   "name": "python3"
  },
  "language_info": {
   "codemirror_mode": {
    "name": "ipython",
    "version": 3
   },
   "file_extension": ".py",
   "mimetype": "text/x-python",
   "name": "python",
   "nbconvert_exporter": "python",
   "pygments_lexer": "ipython3",
   "version": "3.6.2"
  }
 },
 "nbformat": 4,
 "nbformat_minor": 2
}
